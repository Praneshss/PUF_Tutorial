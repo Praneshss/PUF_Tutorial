{
  "nbformat": 4,
  "nbformat_minor": 0,
  "metadata": {
    "colab": {
      "name": "Modeling_attack_on_APUF_tutorial.ipynb",
      "provenance": [],
      "authorship_tag": "ABX9TyMCm+JNmDUQzW/Lviw1U9J0",
      "include_colab_link": true
    },
    "kernelspec": {
      "name": "python3",
      "display_name": "Python 3"
    }
  },
  "cells": [
    {
      "cell_type": "markdown",
      "metadata": {
        "id": "view-in-github",
        "colab_type": "text"
      },
      "source": [
        "<a href=\"https://colab.research.google.com/github/Praneshss/PUF_Tutorial/blob/main/Modeling_attack_on_APUF_tutorial.ipynb\" target=\"_parent\"><img src=\"https://colab.research.google.com/assets/colab-badge.svg\" alt=\"Open In Colab\"/></a>"
      ]
    },
    {
      "cell_type": "markdown",
      "metadata": {
        "id": "p-9zBDx28w4k"
      },
      "source": [
        "## **Modeling Attack on 4-bit APUF: Step-by-Step Tutorial**\r\n",
        "\r\n",
        "Demonstrated during talk organized by IIEST Shibpur, India"
      ]
    },
    {
      "cell_type": "markdown",
      "metadata": {
        "id": "k1jKstCw_O28"
      },
      "source": [
        "Let's say CRP (challenge-response) table of a 4-bit APUF instance is given by:\r\n",
        "\r\n",
        "\r\n",
        "![crp.png](data:image/png;base64,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)"
      ]
    },
    {
      "cell_type": "code",
      "metadata": {
        "id": "UppHDtW972Kq"
      },
      "source": [
        "import numpy as np"
      ],
      "execution_count": 1,
      "outputs": []
    },
    {
      "cell_type": "code",
      "metadata": {
        "colab": {
          "base_uri": "https://localhost:8080/"
        },
        "id": "NtMAXvuI9COz",
        "outputId": "d7858137-651a-4512-f5b4-84aa1cd698ab"
      },
      "source": [
        "challenges=np.array([[0, 0, 0, 0], [0, 0, 0, 1], [0, 0, 1, 0], [0, 0, 1, 1],\r\n",
        "            [0, 1, 0, 0], [0, 1, 0, 1], [0, 1, 1, 0], [0, 1, 1, 1], \r\n",
        "            [1, 0, 0, 0], [1, 0, 0, 1], [1, 0, 1, 0], [1, 0, 1, 1], \r\n",
        "            [1, 1, 0, 0], [1, 1, 0, 1], [1, 1, 1, 0], [1, 1, 1, 1]])\r\n",
        "print(\"Challenges:\",challenges)\r\n",
        "responses=np.array([0,1,1,0,1,1,1,1,1,0,0,1,0,0,0,1])\r\n",
        "print(\"Responses:\",responses)"
      ],
      "execution_count": 2,
      "outputs": [
        {
          "output_type": "stream",
          "text": [
            "Challenges: [[0 0 0 0]\n",
            " [0 0 0 1]\n",
            " [0 0 1 0]\n",
            " [0 0 1 1]\n",
            " [0 1 0 0]\n",
            " [0 1 0 1]\n",
            " [0 1 1 0]\n",
            " [0 1 1 1]\n",
            " [1 0 0 0]\n",
            " [1 0 0 1]\n",
            " [1 0 1 0]\n",
            " [1 0 1 1]\n",
            " [1 1 0 0]\n",
            " [1 1 0 1]\n",
            " [1 1 1 0]\n",
            " [1 1 1 1]]\n",
            "Responses: [0 1 1 0 1 1 1 1 1 0 0 1 0 0 0 1]\n"
          ],
          "name": "stdout"
        }
      ]
    },
    {
      "cell_type": "markdown",
      "metadata": {
        "id": "4Ta8iYyBAdlq"
      },
      "source": [
        "**Challenges are converted to parity vectors (Φ)**"
      ]
    },
    {
      "cell_type": "code",
      "metadata": {
        "id": "7T9jwdBxBBmS"
      },
      "source": [
        "def get_parity_vectors(C):\r\n",
        "  n=C.shape[1]\r\n",
        "  m=C.shape[0]\r\n",
        "  C[C==0]=-1\r\n",
        "  parityVec=np.zeros((m,n+1))\r\n",
        "  parityVec[:,0:1]=np.ones((m,1))\r\n",
        "  for i in range(2,n+2):\r\n",
        "      parityVec[:,i-1:i]=np.prod(C[:,0:i-1],axis=1).reshape((m,1))\r\n",
        "  return parityVec"
      ],
      "execution_count": 3,
      "outputs": []
    },
    {
      "cell_type": "code",
      "metadata": {
        "colab": {
          "base_uri": "https://localhost:8080/",
          "height": 72
        },
        "id": "QTtQls2xEoKg",
        "outputId": "dab3dece-394a-420d-da41-91b1a8c5c0cd"
      },
      "source": [
        "\"\"\"\r\n",
        "C=challenges\r\n",
        "n=C.shape[1]\r\n",
        "m=C.shape[0]\r\n",
        "C[C==0]=-1\r\n",
        "print(C)\r\n",
        "parityVec=np.zeros((m,n+1))\r\n",
        "parityVec.shape\r\n",
        "parityVec[:,0:1]=np.ones((m,1))\r\n",
        "parityVec\r\n",
        "#x= range(2,)\r\n",
        "#C[:,0:2-1]\r\n",
        "for i in range(2,n+2):\r\n",
        "  parityVec[:,i-1:i]=np.prod(C[:,0:i-1],axis=1).reshape((m,1))\r\n",
        "  #print(np.prod(C[:,0:i-1], axis=1))\r\n",
        "\r\n",
        "#print(np.prod(C[:,0:1], axis=1))\r\n",
        "#a=np.prod(C[:,0:1], axis=1)\r\n",
        "#a=a.reshape((m,1))\r\n",
        "#parityVec[:,1:2]=a\r\n",
        "parityVec\r\n",
        "\"\"\""
      ],
      "execution_count": 4,
      "outputs": [
        {
          "output_type": "execute_result",
          "data": {
            "application/vnd.google.colaboratory.intrinsic+json": {
              "type": "string"
            },
            "text/plain": [
              "'\\nC=challenges\\nn=C.shape[1]\\nm=C.shape[0]\\nC[C==0]=-1\\nprint(C)\\nparityVec=np.zeros((m,n+1))\\nparityVec.shape\\nparityVec[:,0:1]=np.ones((m,1))\\nparityVec\\n#x= range(2,)\\n#C[:,0:2-1]\\nfor i in range(2,n+2):\\n  parityVec[:,i-1:i]=np.prod(C[:,0:i-1],axis=1).reshape((m,1))\\n  #print(np.prod(C[:,0:i-1], axis=1))\\n\\n#print(np.prod(C[:,0:1], axis=1))\\n#a=np.prod(C[:,0:1], axis=1)\\n#a=a.reshape((m,1))\\n#parityVec[:,1:2]=a\\nparityVec\\n'"
            ]
          },
          "metadata": {
            "tags": []
          },
          "execution_count": 4
        }
      ]
    },
    {
      "cell_type": "code",
      "metadata": {
        "colab": {
          "base_uri": "https://localhost:8080/"
        },
        "id": "jaYZs_skqBlB",
        "outputId": "a46ed48d-6f66-4394-c447-be774f9335b6"
      },
      "source": [
        "features=get_parity_vectors(challenges)\r\n",
        "print(features)"
      ],
      "execution_count": 5,
      "outputs": [
        {
          "output_type": "stream",
          "text": [
            "[[ 1. -1.  1. -1.  1.]\n",
            " [ 1. -1.  1. -1. -1.]\n",
            " [ 1. -1.  1.  1. -1.]\n",
            " [ 1. -1.  1.  1.  1.]\n",
            " [ 1. -1. -1.  1. -1.]\n",
            " [ 1. -1. -1.  1.  1.]\n",
            " [ 1. -1. -1. -1.  1.]\n",
            " [ 1. -1. -1. -1. -1.]\n",
            " [ 1.  1. -1.  1. -1.]\n",
            " [ 1.  1. -1.  1.  1.]\n",
            " [ 1.  1. -1. -1.  1.]\n",
            " [ 1.  1. -1. -1. -1.]\n",
            " [ 1.  1.  1. -1.  1.]\n",
            " [ 1.  1.  1. -1. -1.]\n",
            " [ 1.  1.  1.  1. -1.]\n",
            " [ 1.  1.  1.  1.  1.]]\n"
          ],
          "name": "stdout"
        }
      ]
    },
    {
      "cell_type": "code",
      "metadata": {
        "id": "SYkzlYwP4vHq"
      },
      "source": [
        "responses[responses==0]=-1"
      ],
      "execution_count": 6,
      "outputs": []
    },
    {
      "cell_type": "code",
      "metadata": {
        "id": "H9dvsJRa41aA"
      },
      "source": [
        "import numpy as np\r\n",
        "import matplotlib.pyplot as plt\r\n",
        "from sklearn import svm, datasets\r\n",
        "from sklearn.model_selection import train_test_split"
      ],
      "execution_count": 7,
      "outputs": []
    },
    {
      "cell_type": "code",
      "metadata": {
        "id": "hZyBMlEd5LMD"
      },
      "source": [
        "train_features, test_features, train_labels, test_labels = train_test_split(features, responses, test_size = 0.2, random_state = 42)\r\n",
        "lin_svc = svm.LinearSVC(C=1.0).fit(train_features, train_labels)"
      ],
      "execution_count": 8,
      "outputs": []
    },
    {
      "cell_type": "code",
      "metadata": {
        "colab": {
          "base_uri": "https://localhost:8080/"
        },
        "id": "0gM5MscgJsfx",
        "outputId": "e1fcf1ac-c895-4c4c-d113-39615d98fcba"
      },
      "source": [
        "for (intercept, coef) in zip(lin_svc.intercept_, lin_svc.coef_):\r\n",
        "    s = \"y = {0:.3f}\".format(intercept)\r\n",
        "    for (i, c) in enumerate(coef):\r\n",
        "        s += \" + {0:.3f} * \\u03A6[{1}]\".format(c, i)\r\n",
        "\r\n",
        "    print(s)\r\n"
      ],
      "execution_count": 18,
      "outputs": [
        {
          "output_type": "stream",
          "text": [
            "y = 0.097 + 0.097 * Φ[0] + -0.283 * Φ[1] + -0.282 * Φ[2] + 0.189 * Φ[3] + -0.419 * Φ[4]\n"
          ],
          "name": "stdout"
        }
      ]
    },
    {
      "cell_type": "code",
      "metadata": {
        "colab": {
          "base_uri": "https://localhost:8080/",
          "height": 650
        },
        "id": "bVqMA3p0M8cS",
        "outputId": "8e6f596a-103d-4b69-d787-367ba7b2efff"
      },
      "source": [
        "import matplotlib.pyplot as plt \r\n",
        "X=train_features\r\n",
        "y=train_labels\r\n",
        "clf=lin_svc\r\n",
        "\r\n",
        "def make_meshgrid(x, y, h=.02):\r\n",
        "    x_min, x_max = x.min() - 1, x.max() + 1\r\n",
        "    y_min, y_max = y.min() - 1, y.max() + 1\r\n",
        "    xx, yy = np.meshgrid(np.arange(x_min, x_max, h), np.arange(y_min, y_max, h))\r\n",
        "    return xx, yy\r\n",
        "\r\n",
        "def plot_contours(ax, clf, xx, yy, **params):\r\n",
        "    Z = clf.predict(np.c_[xx.ravel(), yy.ravel()])\r\n",
        "    Z = Z.reshape(xx.shape)\r\n",
        "    out = ax.contourf(xx, yy, Z, **params)\r\n",
        "    return out\r\n",
        "\r\n",
        "fig, ax = plt.subplots()\r\n",
        "# title for the plots\r\n",
        "title = ('Decision surface of linear SVC ')\r\n",
        "# Set-up grid for plotting.\r\n",
        "X0, X1 = X[:, 0], X[:, 1]\r\n",
        "xx, yy = make_meshgrid(X0, X1)\r\n",
        "\r\n",
        "plot_contours(ax, clf, xx, yy, cmap=plt.cm.coolwarm, alpha=0.8)\r\n",
        "ax.scatter(X0, X1, c=y, cmap=plt.cm.coolwarm, s=20, edgecolors='k')\r\n",
        "ax.set_ylabel('y label here')\r\n",
        "ax.set_xlabel('x label here')\r\n",
        "ax.set_xticks(())\r\n",
        "ax.set_yticks(())\r\n",
        "ax.set_title(title)\r\n",
        "ax.legend()\r\n",
        "plt.show()"
      ],
      "execution_count": 23,
      "outputs": [
        {
          "output_type": "error",
          "ename": "ValueError",
          "evalue": "ignored",
          "traceback": [
            "\u001b[0;31m---------------------------------------------------------------------------\u001b[0m",
            "\u001b[0;31mValueError\u001b[0m                                Traceback (most recent call last)",
            "\u001b[0;32m<ipython-input-23-401a60f3743b>\u001b[0m in \u001b[0;36m<module>\u001b[0;34m()\u001b[0m\n\u001b[1;32m     23\u001b[0m \u001b[0mxx\u001b[0m\u001b[0;34m,\u001b[0m \u001b[0myy\u001b[0m \u001b[0;34m=\u001b[0m \u001b[0mmake_meshgrid\u001b[0m\u001b[0;34m(\u001b[0m\u001b[0mX0\u001b[0m\u001b[0;34m,\u001b[0m \u001b[0mX1\u001b[0m\u001b[0;34m)\u001b[0m\u001b[0;34m\u001b[0m\u001b[0;34m\u001b[0m\u001b[0m\n\u001b[1;32m     24\u001b[0m \u001b[0;34m\u001b[0m\u001b[0m\n\u001b[0;32m---> 25\u001b[0;31m \u001b[0mplot_contours\u001b[0m\u001b[0;34m(\u001b[0m\u001b[0max\u001b[0m\u001b[0;34m,\u001b[0m \u001b[0mclf\u001b[0m\u001b[0;34m,\u001b[0m \u001b[0mxx\u001b[0m\u001b[0;34m,\u001b[0m \u001b[0myy\u001b[0m\u001b[0;34m,\u001b[0m \u001b[0mcmap\u001b[0m\u001b[0;34m=\u001b[0m\u001b[0mplt\u001b[0m\u001b[0;34m.\u001b[0m\u001b[0mcm\u001b[0m\u001b[0;34m.\u001b[0m\u001b[0mcoolwarm\u001b[0m\u001b[0;34m,\u001b[0m \u001b[0malpha\u001b[0m\u001b[0;34m=\u001b[0m\u001b[0;36m0.8\u001b[0m\u001b[0;34m)\u001b[0m\u001b[0;34m\u001b[0m\u001b[0;34m\u001b[0m\u001b[0m\n\u001b[0m\u001b[1;32m     26\u001b[0m \u001b[0max\u001b[0m\u001b[0;34m.\u001b[0m\u001b[0mscatter\u001b[0m\u001b[0;34m(\u001b[0m\u001b[0mX0\u001b[0m\u001b[0;34m,\u001b[0m \u001b[0mX1\u001b[0m\u001b[0;34m,\u001b[0m \u001b[0mc\u001b[0m\u001b[0;34m=\u001b[0m\u001b[0my\u001b[0m\u001b[0;34m,\u001b[0m \u001b[0mcmap\u001b[0m\u001b[0;34m=\u001b[0m\u001b[0mplt\u001b[0m\u001b[0;34m.\u001b[0m\u001b[0mcm\u001b[0m\u001b[0;34m.\u001b[0m\u001b[0mcoolwarm\u001b[0m\u001b[0;34m,\u001b[0m \u001b[0ms\u001b[0m\u001b[0;34m=\u001b[0m\u001b[0;36m20\u001b[0m\u001b[0;34m,\u001b[0m \u001b[0medgecolors\u001b[0m\u001b[0;34m=\u001b[0m\u001b[0;34m'k'\u001b[0m\u001b[0;34m)\u001b[0m\u001b[0;34m\u001b[0m\u001b[0;34m\u001b[0m\u001b[0m\n\u001b[1;32m     27\u001b[0m \u001b[0max\u001b[0m\u001b[0;34m.\u001b[0m\u001b[0mset_ylabel\u001b[0m\u001b[0;34m(\u001b[0m\u001b[0;34m'y label here'\u001b[0m\u001b[0;34m)\u001b[0m\u001b[0;34m\u001b[0m\u001b[0;34m\u001b[0m\u001b[0m\n",
            "\u001b[0;32m<ipython-input-23-401a60f3743b>\u001b[0m in \u001b[0;36mplot_contours\u001b[0;34m(ax, clf, xx, yy, **params)\u001b[0m\n\u001b[1;32m     11\u001b[0m \u001b[0;34m\u001b[0m\u001b[0m\n\u001b[1;32m     12\u001b[0m \u001b[0;32mdef\u001b[0m \u001b[0mplot_contours\u001b[0m\u001b[0;34m(\u001b[0m\u001b[0max\u001b[0m\u001b[0;34m,\u001b[0m \u001b[0mclf\u001b[0m\u001b[0;34m,\u001b[0m \u001b[0mxx\u001b[0m\u001b[0;34m,\u001b[0m \u001b[0myy\u001b[0m\u001b[0;34m,\u001b[0m \u001b[0;34m**\u001b[0m\u001b[0mparams\u001b[0m\u001b[0;34m)\u001b[0m\u001b[0;34m:\u001b[0m\u001b[0;34m\u001b[0m\u001b[0;34m\u001b[0m\u001b[0m\n\u001b[0;32m---> 13\u001b[0;31m     \u001b[0mZ\u001b[0m \u001b[0;34m=\u001b[0m \u001b[0mclf\u001b[0m\u001b[0;34m.\u001b[0m\u001b[0mpredict\u001b[0m\u001b[0;34m(\u001b[0m\u001b[0mnp\u001b[0m\u001b[0;34m.\u001b[0m\u001b[0mc_\u001b[0m\u001b[0;34m[\u001b[0m\u001b[0mxx\u001b[0m\u001b[0;34m.\u001b[0m\u001b[0mravel\u001b[0m\u001b[0;34m(\u001b[0m\u001b[0;34m)\u001b[0m\u001b[0;34m,\u001b[0m \u001b[0myy\u001b[0m\u001b[0;34m.\u001b[0m\u001b[0mravel\u001b[0m\u001b[0;34m(\u001b[0m\u001b[0;34m)\u001b[0m\u001b[0;34m]\u001b[0m\u001b[0;34m)\u001b[0m\u001b[0;34m\u001b[0m\u001b[0;34m\u001b[0m\u001b[0m\n\u001b[0m\u001b[1;32m     14\u001b[0m     \u001b[0mZ\u001b[0m \u001b[0;34m=\u001b[0m \u001b[0mZ\u001b[0m\u001b[0;34m.\u001b[0m\u001b[0mreshape\u001b[0m\u001b[0;34m(\u001b[0m\u001b[0mxx\u001b[0m\u001b[0;34m.\u001b[0m\u001b[0mshape\u001b[0m\u001b[0;34m)\u001b[0m\u001b[0;34m\u001b[0m\u001b[0;34m\u001b[0m\u001b[0m\n\u001b[1;32m     15\u001b[0m     \u001b[0mout\u001b[0m \u001b[0;34m=\u001b[0m \u001b[0max\u001b[0m\u001b[0;34m.\u001b[0m\u001b[0mcontourf\u001b[0m\u001b[0;34m(\u001b[0m\u001b[0mxx\u001b[0m\u001b[0;34m,\u001b[0m \u001b[0myy\u001b[0m\u001b[0;34m,\u001b[0m \u001b[0mZ\u001b[0m\u001b[0;34m,\u001b[0m \u001b[0;34m**\u001b[0m\u001b[0mparams\u001b[0m\u001b[0;34m)\u001b[0m\u001b[0;34m\u001b[0m\u001b[0;34m\u001b[0m\u001b[0m\n",
            "\u001b[0;32m/usr/local/lib/python3.6/dist-packages/sklearn/linear_model/_base.py\u001b[0m in \u001b[0;36mpredict\u001b[0;34m(self, X)\u001b[0m\n\u001b[1;32m    291\u001b[0m             \u001b[0mPredicted\u001b[0m \u001b[0;32mclass\u001b[0m \u001b[0mlabel\u001b[0m \u001b[0mper\u001b[0m \u001b[0msample\u001b[0m\u001b[0;34m.\u001b[0m\u001b[0;34m\u001b[0m\u001b[0;34m\u001b[0m\u001b[0m\n\u001b[1;32m    292\u001b[0m         \"\"\"\n\u001b[0;32m--> 293\u001b[0;31m         \u001b[0mscores\u001b[0m \u001b[0;34m=\u001b[0m \u001b[0mself\u001b[0m\u001b[0;34m.\u001b[0m\u001b[0mdecision_function\u001b[0m\u001b[0;34m(\u001b[0m\u001b[0mX\u001b[0m\u001b[0;34m)\u001b[0m\u001b[0;34m\u001b[0m\u001b[0;34m\u001b[0m\u001b[0m\n\u001b[0m\u001b[1;32m    294\u001b[0m         \u001b[0;32mif\u001b[0m \u001b[0mlen\u001b[0m\u001b[0;34m(\u001b[0m\u001b[0mscores\u001b[0m\u001b[0;34m.\u001b[0m\u001b[0mshape\u001b[0m\u001b[0;34m)\u001b[0m \u001b[0;34m==\u001b[0m \u001b[0;36m1\u001b[0m\u001b[0;34m:\u001b[0m\u001b[0;34m\u001b[0m\u001b[0;34m\u001b[0m\u001b[0m\n\u001b[1;32m    295\u001b[0m             \u001b[0mindices\u001b[0m \u001b[0;34m=\u001b[0m \u001b[0;34m(\u001b[0m\u001b[0mscores\u001b[0m \u001b[0;34m>\u001b[0m \u001b[0;36m0\u001b[0m\u001b[0;34m)\u001b[0m\u001b[0;34m.\u001b[0m\u001b[0mastype\u001b[0m\u001b[0;34m(\u001b[0m\u001b[0mnp\u001b[0m\u001b[0;34m.\u001b[0m\u001b[0mint\u001b[0m\u001b[0;34m)\u001b[0m\u001b[0;34m\u001b[0m\u001b[0;34m\u001b[0m\u001b[0m\n",
            "\u001b[0;32m/usr/local/lib/python3.6/dist-packages/sklearn/linear_model/_base.py\u001b[0m in \u001b[0;36mdecision_function\u001b[0;34m(self, X)\u001b[0m\n\u001b[1;32m    271\u001b[0m         \u001b[0;32mif\u001b[0m \u001b[0mX\u001b[0m\u001b[0;34m.\u001b[0m\u001b[0mshape\u001b[0m\u001b[0;34m[\u001b[0m\u001b[0;36m1\u001b[0m\u001b[0;34m]\u001b[0m \u001b[0;34m!=\u001b[0m \u001b[0mn_features\u001b[0m\u001b[0;34m:\u001b[0m\u001b[0;34m\u001b[0m\u001b[0;34m\u001b[0m\u001b[0m\n\u001b[1;32m    272\u001b[0m             raise ValueError(\"X has %d features per sample; expecting %d\"\n\u001b[0;32m--> 273\u001b[0;31m                              % (X.shape[1], n_features))\n\u001b[0m\u001b[1;32m    274\u001b[0m \u001b[0;34m\u001b[0m\u001b[0m\n\u001b[1;32m    275\u001b[0m         scores = safe_sparse_dot(X, self.coef_.T,\n",
            "\u001b[0;31mValueError\u001b[0m: X has 2 features per sample; expecting 5"
          ]
        },
        {
          "output_type": "display_data",
          "data": {
            "image/png": "[encoded data removed]",
            "text/plain": [
              "<Figure size 432x288 with 1 Axes>"
            ]
          },
          "metadata": {
            "tags": [],
            "needs_background": "light"
          }
        }
      ]
    }
  ]
}